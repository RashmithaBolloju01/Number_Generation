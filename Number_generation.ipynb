{
 "cells": [
  {
   "cell_type": "code",
   "execution_count": 1,
   "metadata": {
    "id": "Vg2qfYEP2AIB",
    "tags": []
   },
   "outputs": [],
   "source": [
    "import torch\n",
    "import torch.nn as nn\n",
    "import torch.optim as optim\n",
    "import torchvision\n",
    "import torchvision.datasets as datasets\n",
    "import torchvision.transforms as transforms\n",
    "from torch.utils.data import DataLoader\n",
    "from torch.utils.tensorboard import SummaryWriter\n",
    "from tqdm import tqdm\n",
    "from torch.utils.data import DataLoader, Dataset\n",
    "from PIL import Image\n",
    "import os"
   ]
  },
  {
   "cell_type": "code",
   "execution_count": 2,
   "metadata": {
    "colab": {
     "base_uri": "https://localhost:8080/"
    },
    "id": "t4ufjPdM2AIC",
    "outputId": "2cffa925-d864-4d38-db87-0c1f0e20881b",
    "tags": []
   },
   "outputs": [
    {
     "name": "stdout",
     "output_type": "stream",
     "text": [
      "Downloading http://yann.lecun.com/exdb/mnist/train-images-idx3-ubyte.gz\n",
      "Downloading http://yann.lecun.com/exdb/mnist/train-images-idx3-ubyte.gz to ./data/MNIST/raw/train-images-idx3-ubyte.gz\n"
     ]
    },
    {
     "name": "stderr",
     "output_type": "stream",
     "text": [
      "100%|██████████| 9912422/9912422 [00:00<00:00, 88774013.40it/s]\n"
     ]
    },
    {
     "name": "stdout",
     "output_type": "stream",
     "text": [
      "Extracting ./data/MNIST/raw/train-images-idx3-ubyte.gz to ./data/MNIST/raw\n",
      "\n",
      "Downloading http://yann.lecun.com/exdb/mnist/train-labels-idx1-ubyte.gz\n",
      "Downloading http://yann.lecun.com/exdb/mnist/train-labels-idx1-ubyte.gz to ./data/MNIST/raw/train-labels-idx1-ubyte.gz\n"
     ]
    },
    {
     "name": "stderr",
     "output_type": "stream",
     "text": [
      "100%|██████████| 28881/28881 [00:00<00:00, 60537578.12it/s]\n"
     ]
    },
    {
     "name": "stdout",
     "output_type": "stream",
     "text": [
      "Extracting ./data/MNIST/raw/train-labels-idx1-ubyte.gz to ./data/MNIST/raw\n",
      "\n",
      "Downloading http://yann.lecun.com/exdb/mnist/t10k-images-idx3-ubyte.gz\n",
      "Downloading http://yann.lecun.com/exdb/mnist/t10k-images-idx3-ubyte.gz to ./data/MNIST/raw/t10k-images-idx3-ubyte.gz\n"
     ]
    },
    {
     "name": "stderr",
     "output_type": "stream",
     "text": [
      "100%|██████████| 1648877/1648877 [00:00<00:00, 28822939.51it/s]\n"
     ]
    },
    {
     "name": "stdout",
     "output_type": "stream",
     "text": [
      "Extracting ./data/MNIST/raw/t10k-images-idx3-ubyte.gz to ./data/MNIST/raw\n",
      "\n",
      "Downloading http://yann.lecun.com/exdb/mnist/t10k-labels-idx1-ubyte.gz\n",
      "Downloading http://yann.lecun.com/exdb/mnist/t10k-labels-idx1-ubyte.gz to ./data/MNIST/raw/t10k-labels-idx1-ubyte.gz\n"
     ]
    },
    {
     "name": "stderr",
     "output_type": "stream",
     "text": [
      "100%|██████████| 4542/4542 [00:00<00:00, 20440481.51it/s]\n"
     ]
    },
    {
     "name": "stdout",
     "output_type": "stream",
     "text": [
      "Extracting ./data/MNIST/raw/t10k-labels-idx1-ubyte.gz to ./data/MNIST/raw\n",
      "\n"
     ]
    }
   ],
   "source": [
    "image_size= 64\n",
    "transform = transforms.Compose([\n",
    "                               transforms.Resize(image_size),\n",
    "                               transforms.CenterCrop(image_size),\n",
    "                               transforms.ToTensor(),\n",
    "                               transforms.Normalize(0.5,0.5),\n",
    "                           ])\n",
    "\n",
    "#dataset = datasets.ImageFolder(root='dataset/img_align_celeba', transform=transform)\n",
    "dataset = datasets.MNIST(root='./data',download=True, train=True, transform=transform)\n",
    "dataloader = DataLoader(dataset, batch_size=64, shuffle=True)\n"
   ]
  },
  {
   "cell_type": "code",
   "execution_count": 3,
   "metadata": {
    "colab": {
     "base_uri": "https://localhost:8080/",
     "height": 160
    },
    "id": "rkFU9J6_xeP-",
    "outputId": "b3869963-d9af-4268-834d-9a1b6b99d37d"
   },
   "outputs": [
    {
     "data": {
      "text/plain": [
       "<matplotlib.image.AxesImage at 0x78d37539f1f0>"
      ]
     },
     "execution_count": 3,
     "metadata": {},
     "output_type": "execute_result"
    },
    {
     "data": {
      "image/png": "[encoded data removed]",
      "text/plain": [
       "<Figure size 100x100 with 1 Axes>"
      ]
     },
     "metadata": {},
     "output_type": "display_data"
    }
   ],
   "source": [
    "import matplotlib.pyplot as plt\n",
    "\n",
    "plt.figure(figsize=(1,1))\n",
    "plt.imshow(next(iter(dataloader))[0][0].permute((1,2,0)), cmap='gray')"
   ]
  },
  {
   "cell_type": "code",
   "execution_count": 4,
   "metadata": {
    "colab": {
     "base_uri": "https://localhost:8080/"
    },
    "id": "hu12qA30x0RP",
    "outputId": "dcee7ccc-9071-4a0b-9e30-cc94504bb8eb"
   },
   "outputs": [
    {
     "data": {
      "text/plain": [
       "{'0 - zero': 0,\n",
       " '1 - one': 1,\n",
       " '2 - two': 2,\n",
       " '3 - three': 3,\n",
       " '4 - four': 4,\n",
       " '5 - five': 5,\n",
       " '6 - six': 6,\n",
       " '7 - seven': 7,\n",
       " '8 - eight': 8,\n",
       " '9 - nine': 9}"
      ]
     },
     "execution_count": 4,
     "metadata": {},
     "output_type": "execute_result"
    }
   ],
   "source": [
    "dataset.class_to_idx"
   ]
  },
  {
   "cell_type": "code",
   "execution_count": 30,
   "metadata": {
    "id": "6-BIHVl-2AIC",
    "tags": []
   },
   "outputs": [],
   "source": [
    "import torch\n",
    "import torch.nn as nn\n",
    "\n",
    "\n",
    "class Discriminator(nn.Module):\n",
    "    def __init__(self, channels_img, features_d, num_classes, img_size):\n",
    "        super(Discriminator, self).__init__()\n",
    "        self.img_size = img_size\n",
    "        self.disc = nn.Sequential(\n",
    "            # input: N x channels_img x 64 x 64\n",
    "            nn.Conv2d(channels_img+1, features_d, kernel_size=4, stride=2, padding=1), #32x32\n",
    "            nn.LeakyReLU(0.2),\n",
    "            # _block(in_channels, out_channels, kernel_size, stride, padding)\n",
    "            self._block(features_d, features_d * 2, 4, 2, 1), #16x16\n",
    "            self._block(features_d * 2, features_d * 4, 4, 2, 1), #8x8\n",
    "            self._block(features_d * 4, features_d * 8, 4, 2, 1),#4x4\n",
    "            # After all _block img output is 4x4 (Conv2d below makes into 1x1)\n",
    "            nn.Conv2d(features_d * 8, 1, kernel_size=4, stride=2, padding=0),\n",
    "\n",
    "        )\n",
    "        self.embed = nn.Embedding(num_classes, img_size*img_size)\n",
    "\n",
    "    def _block(self, in_channels, out_channels, kernel_size, stride, padding):\n",
    "        return nn.Sequential(\n",
    "            nn.Conv2d(\n",
    "                in_channels,\n",
    "                out_channels,\n",
    "                kernel_size,\n",
    "                stride,\n",
    "                padding,\n",
    "                bias=False,\n",
    "            ),\n",
    "            nn.InstanceNorm2d(out_channels),\n",
    "            nn.LeakyReLU(0.2),\n",
    "        )\n",
    "\n",
    "    def forward(self, x, labels):\n",
    "        embedding = self.embed(labels).view(labels.shape[0], 1, self.img_size, self.img_size)\n",
    "        x = torch.cat([x, embedding], dim=1)\n",
    "        #print('Shape in disc after concatenation: ',x.shape)\n",
    "        return self.disc(x)\n",
    "\n",
    "\n",
    "class Generator(nn.Module):\n",
    "    def __init__(self, channels_noise, channels_img, features_g, num_classes, embed_size):\n",
    "        super(Generator, self).__init__()\n",
    "        self.net = nn.Sequential(\n",
    "            # Input: N x channels_noise x 1 x 1\n",
    "            self._block(channels_noise+embed_size, features_g * 16, 4, 1, 0),  # img: 4x4\n",
    "            self._block(features_g * 16, features_g * 8, 4, 2, 1),  # img: 8x8\n",
    "            self._block(features_g * 8, features_g * 4, 4, 2, 1),  # img: 16x16\n",
    "            self._block(features_g * 4, features_g * 2, 4, 2, 1),  # img: 32x32\n",
    "            nn.ConvTranspose2d(\n",
    "                features_g * 2, channels_img, kernel_size=4, stride=2, padding=1\n",
    "            ),\n",
    "            # Output: N x channels_img x 64 x 64\n",
    "            nn.Tanh(),\n",
    "        )\n",
    "\n",
    "        self.embed = nn.Embedding(num_classes, embed_size)\n",
    "\n",
    "\n",
    "    def _block(self, in_channels, out_channels, kernel_size, stride, padding):\n",
    "        return nn.Sequential(\n",
    "            nn.ConvTranspose2d(\n",
    "                in_channels,\n",
    "                out_channels,\n",
    "                kernel_size,\n",
    "                stride,\n",
    "                padding,\n",
    "                bias=False,\n",
    "            ),\n",
    "            nn.BatchNorm2d(out_channels),\n",
    "            nn.ReLU(),\n",
    "        )\n",
    "\n",
    "    def forward(self, x, labels):\n",
    "        embedding = self.embed(labels).view(labels.shape[0], 100,1,1)\n",
    "\n",
    "        x = torch.cat([x, embedding], dim=1)\n",
    "\n",
    "        return self.net(x)\n",
    "\n",
    "\n",
    "def initialize_weights(model):\n",
    "    # Initializes weights according to the DCGAN paper\n",
    "    for m in model.modules():\n",
    "        if isinstance(m, (nn.Conv2d, nn.ConvTranspose2d, nn.BatchNorm2d)):\n",
    "            nn.init.normal_(m.weight.data, 0.0, 0.02)\n"
   ]
  },
  {
   "cell_type": "code",
   "execution_count": 15,
   "metadata": {
    "id": "FzThMp5LKprt"
   },
   "outputs": [],
   "source": [
    "def gradient_penalty(disc, labels, real, fake, device='cpu'):\n",
    "  BATCH_SIZE, C, H, W = real.shape\n",
    "  alpha = torch.rand((BATCH_SIZE,1,1,1)).repeat(1,C,H,W).to(device)\n",
    "  interpolated_image = real*alpha + fake*(1-alpha)\n",
    "\n",
    "  mixed_score = disc(interpolated_image, labels)\n",
    "\n",
    "  gradient = torch.autograd.grad(\n",
    "      inputs = interpolated_image,\n",
    "      outputs = mixed_score,\n",
    "      grad_outputs = torch.ones_like(mixed_score),\n",
    "      create_graph=True,\n",
    "      retain_graph = True\n",
    "  )[0]\n",
    "\n",
    "  gradient = gradient.view(gradient.shape[0], -1)\n",
    "  gradient_norm = gradient.norm(2, dim=1)\n",
    "  gradient_penalty = torch.mean((gradient_norm-1)**2)\n",
    "  return gradient_penalty"
   ]
  },
  {
   "cell_type": "code",
   "execution_count": 7,
   "metadata": {
    "colab": {
     "base_uri": "https://localhost:8080/"
    },
    "id": "ggNSzqQ12AIC",
    "outputId": "db6869fe-e127-4044-f432-fec26c38cb6e",
    "tags": []
   },
   "outputs": [
    {
     "data": {
      "text/plain": [
       "True"
      ]
     },
     "execution_count": 7,
     "metadata": {},
     "output_type": "execute_result"
    }
   ],
   "source": [
    "import torch\n",
    "torch.cuda.is_available()"
   ]
  },
  {
   "cell_type": "code",
   "execution_count": 33,
   "metadata": {
    "colab": {
     "base_uri": "https://localhost:8080/",
     "height": 1000
    },
    "id": "g-ARakKQ2AID",
    "outputId": "c5becffd-b72d-411e-eec3-13b10d0e44e9",
    "tags": []
   },
   "outputs": [
    {
     "name": "stdout",
     "output_type": "stream",
     "text": [
      "cuda\n"
     ]
    },
    {
     "name": "stderr",
     "output_type": "stream",
     "text": [
      "\r",
      "  0%|          | 0/15 [00:00<?, ?it/s]"
     ]
    },
    {
     "name": "stdout",
     "output_type": "stream",
     "text": [
      "Epoch [0/15] Batch 0/938                   Loss D: -1.7589, loss G: 1.3332\n",
      "Epoch [0/15] Batch 100/938                   Loss D: -110.8805, loss G: 65.6330\n",
      "Epoch [0/15] Batch 200/938                   Loss D: -128.0389, loss G: 90.5685\n",
      "Epoch [0/15] Batch 300/938                   Loss D: -121.4838, loss G: 105.6361\n",
      "Epoch [0/15] Batch 400/938                   Loss D: -106.6511, loss G: 110.1062\n",
      "Epoch [0/15] Batch 500/938                   Loss D: -91.0942, loss G: 91.6764\n",
      "Epoch [0/15] Batch 600/938                   Loss D: -76.9755, loss G: 86.7015\n",
      "Epoch [0/15] Batch 700/938                   Loss D: -60.5552, loss G: 82.7433\n",
      "Epoch [0/15] Batch 800/938                   Loss D: -48.1536, loss G: 76.7719\n",
      "Epoch [0/15] Batch 900/938                   Loss D: -40.1262, loss G: 85.9666\n"
     ]
    },
    {
     "name": "stderr",
     "output_type": "stream",
     "text": [
      "\r",
      "  7%|▋         | 1/15 [02:39<37:18, 159.89s/it]"
     ]
    },
    {
     "name": "stdout",
     "output_type": "stream",
     "text": [
      "Epoch [1/15] Batch 0/938                   Loss D: -34.5478, loss G: 84.1248\n",
      "Epoch [1/15] Batch 100/938                   Loss D: -26.5727, loss G: 80.8496\n",
      "Epoch [1/15] Batch 200/938                   Loss D: -20.9212, loss G: 84.9444\n",
      "Epoch [1/15] Batch 300/938                   Loss D: -15.6502, loss G: 84.9357\n",
      "Epoch [1/15] Batch 400/938                   Loss D: -11.4652, loss G: 76.1377\n",
      "Epoch [1/15] Batch 500/938                   Loss D: -8.3295, loss G: 70.9632\n",
      "Epoch [1/15] Batch 600/938                   Loss D: -6.7145, loss G: 75.7194\n",
      "Epoch [1/15] Batch 700/938                   Loss D: -6.6871, loss G: 67.8046\n",
      "Epoch [1/15] Batch 800/938                   Loss D: -5.1862, loss G: 65.7410\n",
      "Epoch [1/15] Batch 900/938                   Loss D: -4.5279, loss G: 60.5032\n"
     ]
    },
    {
     "name": "stderr",
     "output_type": "stream",
     "text": [
      "\r",
      " 13%|█▎        | 2/15 [05:19<34:33, 159.52s/it]"
     ]
    },
    {
     "name": "stdout",
     "output_type": "stream",
     "text": [
      "Epoch [2/15] Batch 0/938                   Loss D: -8.1947, loss G: 59.6624\n",
      "Epoch [2/15] Batch 100/938                   Loss D: -5.6818, loss G: 53.8888\n",
      "Epoch [2/15] Batch 200/938                   Loss D: -5.0098, loss G: 56.1415\n",
      "Epoch [2/15] Batch 300/938                   Loss D: -4.1070, loss G: 54.9292\n",
      "Epoch [2/15] Batch 400/938                   Loss D: -6.8149, loss G: 57.8860\n",
      "Epoch [2/15] Batch 500/938                   Loss D: -4.9371, loss G: 54.7348\n",
      "Epoch [2/15] Batch 600/938                   Loss D: -5.1569, loss G: 48.0334\n",
      "Epoch [2/15] Batch 700/938                   Loss D: -3.5626, loss G: 45.7161\n",
      "Epoch [2/15] Batch 800/938                   Loss D: -5.4694, loss G: 46.8226\n",
      "Epoch [2/15] Batch 900/938                   Loss D: -2.6350, loss G: 46.4053\n"
     ]
    },
    {
     "name": "stderr",
     "output_type": "stream",
     "text": [
      "\r",
      " 20%|██        | 3/15 [07:57<31:49, 159.17s/it]"
     ]
    },
    {
     "name": "stdout",
     "output_type": "stream",
     "text": [
      "Epoch [3/15] Batch 0/938                   Loss D: -4.4813, loss G: 43.4304\n",
      "Epoch [3/15] Batch 100/938                   Loss D: -4.5658, loss G: 36.4753\n",
      "Epoch [3/15] Batch 200/938                   Loss D: -4.6231, loss G: 43.7423\n",
      "Epoch [3/15] Batch 300/938                   Loss D: -5.3739, loss G: 45.5853\n",
      "Epoch [3/15] Batch 400/938                   Loss D: -4.1768, loss G: 39.5663\n",
      "Epoch [3/15] Batch 500/938                   Loss D: -3.8927, loss G: 44.3669\n",
      "Epoch [3/15] Batch 600/938                   Loss D: -3.8184, loss G: 40.6210\n",
      "Epoch [3/15] Batch 700/938                   Loss D: -6.3879, loss G: 31.8797\n",
      "Epoch [3/15] Batch 800/938                   Loss D: -3.0869, loss G: 36.1329\n",
      "Epoch [3/15] Batch 900/938                   Loss D: -2.9632, loss G: 36.8099\n"
     ]
    },
    {
     "name": "stderr",
     "output_type": "stream",
     "text": [
      "\r",
      " 27%|██▋       | 4/15 [10:37<29:13, 159.40s/it]"
     ]
    },
    {
     "name": "stdout",
     "output_type": "stream",
     "text": [
      "Epoch [4/15] Batch 0/938                   Loss D: -2.7420, loss G: 36.7839\n",
      "Epoch [4/15] Batch 100/938                   Loss D: -4.3664, loss G: 25.2026\n",
      "Epoch [4/15] Batch 200/938                   Loss D: -2.2226, loss G: 38.8116\n",
      "Epoch [4/15] Batch 300/938                   Loss D: -5.1030, loss G: 31.7453\n",
      "Epoch [4/15] Batch 400/938                   Loss D: -4.6430, loss G: 34.3475\n",
      "Epoch [4/15] Batch 500/938                   Loss D: -4.8091, loss G: 33.2442\n",
      "Epoch [4/15] Batch 600/938                   Loss D: -4.7288, loss G: 35.5782\n",
      "Epoch [4/15] Batch 700/938                   Loss D: -3.8709, loss G: 31.9037\n",
      "Epoch [4/15] Batch 800/938                   Loss D: -3.5493, loss G: 15.2137\n",
      "Epoch [4/15] Batch 900/938                   Loss D: -3.1608, loss G: 25.7006\n"
     ]
    },
    {
     "name": "stderr",
     "output_type": "stream",
     "text": [
      "\r",
      " 33%|███▎      | 5/15 [13:16<26:33, 159.35s/it]"
     ]
    },
    {
     "name": "stdout",
     "output_type": "stream",
     "text": [
      "Epoch [5/15] Batch 0/938                   Loss D: -2.3447, loss G: 16.4930\n",
      "Epoch [5/15] Batch 100/938                   Loss D: -4.1710, loss G: 34.2453\n",
      "Epoch [5/15] Batch 200/938                   Loss D: -2.9715, loss G: 37.5714\n",
      "Epoch [5/15] Batch 300/938                   Loss D: -4.9603, loss G: 22.3246\n",
      "Epoch [5/15] Batch 400/938                   Loss D: -2.6664, loss G: 18.1175\n",
      "Epoch [5/15] Batch 500/938                   Loss D: -3.6710, loss G: 23.0555\n",
      "Epoch [5/15] Batch 600/938                   Loss D: -4.7256, loss G: 25.9803\n",
      "Epoch [5/15] Batch 700/938                   Loss D: -2.3024, loss G: 28.2867\n",
      "Epoch [5/15] Batch 800/938                   Loss D: -3.5265, loss G: 10.9322\n",
      "Epoch [5/15] Batch 900/938                   Loss D: -3.9173, loss G: 19.5035\n"
     ]
    },
    {
     "name": "stderr",
     "output_type": "stream",
     "text": [
      "\r",
      " 40%|████      | 6/15 [15:56<23:53, 159.32s/it]"
     ]
    },
    {
     "name": "stdout",
     "output_type": "stream",
     "text": [
      "Epoch [6/15] Batch 0/938                   Loss D: -2.7754, loss G: 20.4911\n",
      "Epoch [6/15] Batch 100/938                   Loss D: -3.4629, loss G: 13.0742\n",
      "Epoch [6/15] Batch 200/938                   Loss D: -3.4418, loss G: 14.6198\n",
      "Epoch [6/15] Batch 300/938                   Loss D: -2.9028, loss G: -1.6916\n",
      "Epoch [6/15] Batch 400/938                   Loss D: -2.2470, loss G: 11.7673\n",
      "Epoch [6/15] Batch 500/938                   Loss D: -3.0453, loss G: 4.9995\n",
      "Epoch [6/15] Batch 600/938                   Loss D: -2.5360, loss G: 21.9699\n",
      "Epoch [6/15] Batch 700/938                   Loss D: -2.1441, loss G: 18.4872\n",
      "Epoch [6/15] Batch 800/938                   Loss D: -2.7656, loss G: 2.2742\n",
      "Epoch [6/15] Batch 900/938                   Loss D: -3.3712, loss G: 13.0828\n"
     ]
    },
    {
     "name": "stderr",
     "output_type": "stream",
     "text": [
      "\r",
      " 47%|████▋     | 7/15 [18:35<21:13, 159.25s/it]"
     ]
    },
    {
     "name": "stdout",
     "output_type": "stream",
     "text": [
      "Epoch [7/15] Batch 0/938                   Loss D: -4.0725, loss G: 11.2372\n",
      "Epoch [7/15] Batch 100/938                   Loss D: -2.5470, loss G: 15.6998\n",
      "Epoch [7/15] Batch 200/938                   Loss D: -3.6900, loss G: -1.5215\n",
      "Epoch [7/15] Batch 300/938                   Loss D: -2.1495, loss G: -0.5118\n",
      "Epoch [7/15] Batch 400/938                   Loss D: -2.9929, loss G: 8.2917\n"
     ]
    },
    {
     "name": "stderr",
     "output_type": "stream",
     "text": [
      "\r",
      " 47%|████▋     | 7/15 [19:44<22:33, 169.22s/it]\n"
     ]
    },
    {
     "ename": "KeyboardInterrupt",
     "evalue": "",
     "output_type": "error",
     "traceback": [
      "\u001b[0;31m---------------------------------------------------------------------------\u001b[0m",
      "\u001b[0;31mKeyboardInterrupt\u001b[0m                         Traceback (most recent call last)",
      "\u001b[0;32m<ipython-input-33-e0752b48dfd4>\u001b[0m in \u001b[0;36m<cell line: 42>\u001b[0;34m()\u001b[0m\n\u001b[1;32m     56\u001b[0m           \u001b[0mdisc_fake\u001b[0m \u001b[0;34m=\u001b[0m \u001b[0mdisc\u001b[0m\u001b[0;34m(\u001b[0m\u001b[0mfake\u001b[0m\u001b[0;34m.\u001b[0m\u001b[0mdetach\u001b[0m\u001b[0;34m(\u001b[0m\u001b[0;34m)\u001b[0m\u001b[0;34m,\u001b[0m \u001b[0mlabels\u001b[0m\u001b[0;34m)\u001b[0m\u001b[0;34m.\u001b[0m\u001b[0mreshape\u001b[0m\u001b[0;34m(\u001b[0m\u001b[0;34m-\u001b[0m\u001b[0;36m1\u001b[0m\u001b[0;34m)\u001b[0m\u001b[0;34m\u001b[0m\u001b[0;34m\u001b[0m\u001b[0m\n\u001b[1;32m     57\u001b[0m \u001b[0;34m\u001b[0m\u001b[0m\n\u001b[0;32m---> 58\u001b[0;31m           \u001b[0mgp\u001b[0m \u001b[0;34m=\u001b[0m \u001b[0mgradient_penalty\u001b[0m\u001b[0;34m(\u001b[0m\u001b[0mdisc\u001b[0m\u001b[0;34m,\u001b[0m \u001b[0mlabels\u001b[0m\u001b[0;34m,\u001b[0m \u001b[0mreal\u001b[0m\u001b[0;34m,\u001b[0m \u001b[0mfake\u001b[0m\u001b[0;34m,\u001b[0m \u001b[0mdevice\u001b[0m\u001b[0;34m=\u001b[0m\u001b[0mdevice\u001b[0m\u001b[0;34m)\u001b[0m\u001b[0;34m\u001b[0m\u001b[0;34m\u001b[0m\u001b[0m\n\u001b[0m\u001b[1;32m     59\u001b[0m \u001b[0;34m\u001b[0m\u001b[0m\n\u001b[1;32m     60\u001b[0m \u001b[0;34m\u001b[0m\u001b[0m\n",
      "\u001b[0;32m<ipython-input-15-1b64eacf7094>\u001b[0m in \u001b[0;36mgradient_penalty\u001b[0;34m(disc, labels, real, fake, device)\u001b[0m\n\u001b[1;32m      6\u001b[0m   \u001b[0mmixed_score\u001b[0m \u001b[0;34m=\u001b[0m \u001b[0mdisc\u001b[0m\u001b[0;34m(\u001b[0m\u001b[0minterpolated_image\u001b[0m\u001b[0;34m,\u001b[0m \u001b[0mlabels\u001b[0m\u001b[0;34m)\u001b[0m\u001b[0;34m\u001b[0m\u001b[0;34m\u001b[0m\u001b[0m\n\u001b[1;32m      7\u001b[0m \u001b[0;34m\u001b[0m\u001b[0m\n\u001b[0;32m----> 8\u001b[0;31m   gradient = torch.autograd.grad(\n\u001b[0m\u001b[1;32m      9\u001b[0m       \u001b[0minputs\u001b[0m \u001b[0;34m=\u001b[0m \u001b[0minterpolated_image\u001b[0m\u001b[0;34m,\u001b[0m\u001b[0;34m\u001b[0m\u001b[0;34m\u001b[0m\u001b[0m\n\u001b[1;32m     10\u001b[0m       \u001b[0moutputs\u001b[0m \u001b[0;34m=\u001b[0m \u001b[0mmixed_score\u001b[0m\u001b[0;34m,\u001b[0m\u001b[0;34m\u001b[0m\u001b[0;34m\u001b[0m\u001b[0m\n",
      "\u001b[0;32m/usr/local/lib/python3.10/dist-packages/torch/autograd/__init__.py\u001b[0m in \u001b[0;36mgrad\u001b[0;34m(outputs, inputs, grad_outputs, retain_graph, create_graph, only_inputs, allow_unused, is_grads_batched, materialize_grads)\u001b[0m\n\u001b[1;32m    392\u001b[0m         )\n\u001b[1;32m    393\u001b[0m     \u001b[0;32melse\u001b[0m\u001b[0;34m:\u001b[0m\u001b[0;34m\u001b[0m\u001b[0;34m\u001b[0m\u001b[0m\n\u001b[0;32m--> 394\u001b[0;31m         result = Variable._execution_engine.run_backward(  # Calls into the C++ engine to run the backward pass\n\u001b[0m\u001b[1;32m    395\u001b[0m             \u001b[0mt_outputs\u001b[0m\u001b[0;34m,\u001b[0m\u001b[0;34m\u001b[0m\u001b[0;34m\u001b[0m\u001b[0m\n\u001b[1;32m    396\u001b[0m             \u001b[0mgrad_outputs_\u001b[0m\u001b[0;34m,\u001b[0m\u001b[0;34m\u001b[0m\u001b[0;34m\u001b[0m\u001b[0m\n",
      "\u001b[0;31mKeyboardInterrupt\u001b[0m: "
     ]
    }
   ],
   "source": [
    "import torchvision.utils as vutils\n",
    "\n",
    "device = torch.device(\"cuda\" if torch.cuda.is_available() else \"cpu\")\n",
    "LEARNING_RATE = 1e-4\n",
    "BATCH_SIZE = 64\n",
    "IMAGE_SIZE = 64\n",
    "CHANNELS_IMG = 1\n",
    "NOISE_DIM = 100\n",
    "NUM_EPOCHS = 15\n",
    "FEATURES_DISC = 16\n",
    "FEATURES_GEN = 16\n",
    "NUM_CLASSES = 10\n",
    "EMBED_SIZE = 100\n",
    "CRITIC_ITERATIONS = 5\n",
    "LAMBDA_GP = 10\n",
    "\n",
    "print(device)\n",
    "\n",
    "gen = Generator(NOISE_DIM, CHANNELS_IMG, FEATURES_GEN, NUM_CLASSES, EMBED_SIZE).to(device)\n",
    "disc = Discriminator(CHANNELS_IMG, FEATURES_DISC, NUM_CLASSES, IMAGE_SIZE).to(device)\n",
    "initialize_weights(gen)\n",
    "initialize_weights(disc)\n",
    "\n",
    "opt_gen = optim.Adam(gen.parameters(), lr=LEARNING_RATE, betas=(0.0, 0.9))\n",
    "#opt_gen = optim.RMSprop(gen.parameters(), lr=LEARNING_RATE)\n",
    "opt_disc = optim.Adam(disc.parameters(), lr=LEARNING_RATE, betas=(0.0, 0.9))\n",
    "#opt_disc = optim.RMSprop(disc.parameters(), lr=LEARNING_RATE)\n",
    "\n",
    "\n",
    "sample_dir = 'samples_final'\n",
    "sample_dir2 = 'samples_single_final'\n",
    "os.makedirs(sample_dir, exist_ok=True)\n",
    "os.makedirs(sample_dir2, exist_ok=True)\n",
    "fixed_noise = torch.randn(64, NOISE_DIM, 1, 1).to(device)\n",
    "writer_real = SummaryWriter(f\"logs/real\")\n",
    "writer_fake = SummaryWriter(f\"logs/fake\")\n",
    "step = 0\n",
    "\n",
    "gen.train()\n",
    "disc.train()\n",
    "\n",
    "for epoch in tqdm(range(NUM_EPOCHS)):\n",
    "\n",
    "    for batch_idx, (real, labels) in enumerate(dataloader):\n",
    "\n",
    "        real = real.to(device)\n",
    "        labels = labels.to(device)\n",
    "\n",
    "        for a in range(CRITIC_ITERATIONS):\n",
    "          noise = torch.randn(real.shape[0], NOISE_DIM, 1, 1).to(device)\n",
    "          fake = gen(noise, labels)\n",
    "\n",
    "\n",
    "          disc_real = disc(real, labels).reshape(-1)\n",
    "\n",
    "          disc_fake = disc(fake.detach(), labels).reshape(-1)\n",
    "\n",
    "          gp = gradient_penalty(disc, labels, real, fake, device=device)\n",
    "\n",
    "\n",
    "          loss_disc = (-(torch.mean(disc_real) - torch.mean(disc_fake)) + LAMBDA_GP * gp)\n",
    "\n",
    "\n",
    "          disc.zero_grad()\n",
    "          loss_disc.backward(retain_graph=True)\n",
    "          opt_disc.step()\n",
    "\n",
    "\n",
    "\n",
    "        #gen training\n",
    "\n",
    "        output = disc(fake, labels).reshape(-1)\n",
    "        loss_gen = -torch.mean(output)\n",
    "        gen.zero_grad()\n",
    "        loss_gen.backward()\n",
    "        opt_gen.step()\n",
    "\n",
    "\n",
    "        if batch_idx % 100 == 0:\n",
    "            print(\n",
    "                f\"Epoch [{epoch}/{NUM_EPOCHS}] Batch {batch_idx}/{len(dataloader)} \\\n",
    "                  Loss D: {loss_disc:.4f}, loss G: {loss_gen:.4f}\"\n",
    "            )\n",
    "\n",
    "            with torch.no_grad():\n",
    "                fake = gen(fixed_noise, labels)\n",
    "\n",
    "                img_grid_real = torchvision.utils.make_grid(real[:32], normalize=False)\n",
    "                img_grid_fake = torchvision.utils.make_grid(fake[:32], normalize=False)\n",
    "\n",
    "                writer_real.add_image(\"Real\", img_grid_real, global_step=step)\n",
    "                writer_fake.add_image(\"Fake\", img_grid_fake, global_step=step)\n",
    "\n",
    "                vutils.save_image(fake, os.path.join(sample_dir,f'Fake_sample_epoch{epoch}_{batch_idx}.png'), nrow=8, normalize=True)\n",
    "                vutils.save_image(fake[23], os.path.join(sample_dir2,f'Fake_sample_epoch_single{epoch}_{batch_idx}.png'), nrow=8, normalize=True)\n",
    "\n",
    "            step += 1\n",
    "    torch.save(gen.state_dict(), 'generator_weights.pth')\n",
    "    torch.save(disc.state_dict(), 'discriminator_weights.pth')\n"
   ]
  },
  {
   "cell_type": "code",
   "execution_count": 38,
   "metadata": {
    "colab": {
     "base_uri": "https://localhost:8080/",
     "height": 1000
    },
    "id": "8S9PrzeG25Yj",
    "outputId": "93ed6274-2bf7-4a07-c2db-ea0078c51ed1"
   },
   "outputs": [
    {
     "name": "stdout",
     "output_type": "stream",
     "text": [
      "enter number for generation: 5\n"
     ]
    },
    {
     "data": {
      "image/png": "[encoded data removed]",
      "text/plain": [
       "<Figure size 100x100 with 1 Axes>"
      ]
     },
     "metadata": {},
     "output_type": "display_data"
    },
    {
     "name": "stdout",
     "output_type": "stream",
     "text": [
      "enter number for generation: 8\n"
     ]
    },
    {
     "data": {
      "image/png": "[encoded data removed]",
      "text/plain": [
       "<Figure size 100x100 with 1 Axes>"
      ]
     },
     "metadata": {},
     "output_type": "display_data"
    },
    {
     "name": "stdout",
     "output_type": "stream",
     "text": [
      "enter number for generation: 9\n"
     ]
    },
    {
     "data": {
      "image/png": "[encoded data removed]",
      "text/plain": [
       "<Figure size 100x100 with 1 Axes>"
      ]
     },
     "metadata": {},
     "output_type": "display_data"
    },
    {
     "name": "stdout",
     "output_type": "stream",
     "text": [
      "enter number for generation: 1\n"
     ]
    },
    {
     "data": {
      "image/png": "[encoded data removed]",
      "text/plain": [
       "<Figure size 100x100 with 1 Axes>"
      ]
     },
     "metadata": {},
     "output_type": "display_data"
    },
    {
     "name": "stdout",
     "output_type": "stream",
     "text": [
      "enter number for generation: 0\n"
     ]
    },
    {
     "data": {
      "image/png": "[encoded data removed]",
      "text/plain": [
       "<Figure size 100x100 with 1 Axes>"
      ]
     },
     "metadata": {},
     "output_type": "display_data"
    },
    {
     "name": "stdout",
     "output_type": "stream",
     "text": [
      "enter number for generation: 2\n"
     ]
    },
    {
     "data": {
      "image/png": "[encoded data removed]",
      "text/plain": [
       "<Figure size 100x100 with 1 Axes>"
      ]
     },
     "metadata": {},
     "output_type": "display_data"
    },
    {
     "name": "stdout",
     "output_type": "stream",
     "text": [
      "enter number for generation: 3\n"
     ]
    },
    {
     "data": {
      "image/png": "[encoded data removed]",
      "text/plain": [
       "<Figure size 100x100 with 1 Axes>"
      ]
     },
     "metadata": {},
     "output_type": "display_data"
    },
    {
     "name": "stdout",
     "output_type": "stream",
     "text": [
      "enter number for generation: 4\n"
     ]
    },
    {
     "data": {
      "image/png": "[encoded data removed]",
      "text/plain": [
       "<Figure size 100x100 with 1 Axes>"
      ]
     },
     "metadata": {},
     "output_type": "display_data"
    },
    {
     "name": "stdout",
     "output_type": "stream",
     "text": [
      "enter number for generation: 5\n"
     ]
    },
    {
     "data": {
      "image/png": "[encoded data removed]",
      "text/plain": [
       "<Figure size 100x100 with 1 Axes>"
      ]
     },
     "metadata": {},
     "output_type": "display_data"
    },
    {
     "name": "stdout",
     "output_type": "stream",
     "text": [
      "enter number for generation: 10\n"
     ]
    }
   ],
   "source": [
    "import numpy as np\n",
    "import matplotlib.pyplot as plt\n",
    "\n",
    "number = 0\n",
    "while number!=10:\n",
    "  number = int(input(\"enter number for generation: \"))\n",
    "  if number == 10:\n",
    "    break\n",
    "  labels = torch.tensor(np.full(64, number)).to(device)\n",
    "  with torch.no_grad():\n",
    "    generated_samples = gen(fixed_noise, labels)\n",
    "\n",
    "  plt.figure(figsize=(1,1))\n",
    "  plt.imshow(generated_samples[0].permute((1,2,0)).detach().cpu(), cmap='gray')\n",
    "  plt.show()"
   ]
  },
  {
   "cell_type": "code",
   "execution_count": 36,
   "metadata": {
    "colab": {
     "base_uri": "https://localhost:8080/"
    },
    "id": "xPwIOv4PCfL7",
    "outputId": "47feab7b-b4e9-4ee1-a60c-7c60c41163f3"
   },
   "outputs": [
    {
     "data": {
      "text/plain": [
       "array([2, 2, 2, 2, 2, 2, 2, 2, 2, 2, 2, 2, 2, 2, 2, 2, 2, 2, 2, 2, 2, 2,\n",
       "       2, 2, 2, 2, 2, 2, 2, 2, 2, 2, 2, 2, 2, 2, 2, 2, 2, 2, 2, 2, 2, 2,\n",
       "       2, 2, 2, 2, 2, 2, 2, 2, 2, 2, 2, 2, 2, 2, 2, 2, 2, 2, 2, 2])"
      ]
     },
     "execution_count": 36,
     "metadata": {},
     "output_type": "execute_result"
    }
   ],
   "source": [
    "import numpy as np\n",
    "np.full(64,2)"
   ]
  },
  {
   "cell_type": "code",
   "execution_count": null,
   "metadata": {
    "execution": {
     "iopub.execute_input": "2023-12-24T15:12:07.121141Z",
     "iopub.status.busy": "2023-12-24T15:12:07.120263Z",
     "iopub.status.idle": "2023-12-24T15:12:08.146337Z",
     "shell.execute_reply": "2023-12-24T15:12:08.145172Z",
     "shell.execute_reply.started": "2023-12-24T15:12:07.121101Z"
    },
    "id": "GsL9WyU-2AID"
   },
   "outputs": [],
   "source": [
    "gen(fixed_noise).shape"
   ]
  }
 ],
 "metadata": {
  "accelerator": "GPU",
  "colab": {
   "gpuType": "T4",
   "provenance": []
  },
  "kaggle": {
   "accelerator": "nvidiaTeslaT4",
   "dataSources": [
    {
     "datasetId": 29561,
     "sourceId": 37705,
     "sourceType": "datasetVersion"
    }
   ],
   "dockerImageVersionId": 30627,
   "isGpuEnabled": true,
   "isInternetEnabled": true,
   "language": "python",
   "sourceType": "notebook"
  },
  "kernelspec": {
   "display_name": "Python 3 (ipykernel)",
   "language": "python",
   "name": "python3"
  },
  "language_info": {
   "codemirror_mode": {
    "name": "ipython",
    "version": 3
   },
   "file_extension": ".py",
   "mimetype": "text/x-python",
   "name": "python",
   "nbconvert_exporter": "python",
   "pygments_lexer": "ipython3",
   "version": "3.9.20"
  }
 },
 "nbformat": 4,
 "nbformat_minor": 4
}
